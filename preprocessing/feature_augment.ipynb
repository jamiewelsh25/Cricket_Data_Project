{
 "cells": [
  {
   "cell_type": "code",
   "execution_count": 3,
   "metadata": {},
   "outputs": [],
   "source": [
    "import pandas as pd\n",
    "import numpy as np"
   ]
  },
  {
   "cell_type": "code",
   "execution_count": 14,
   "metadata": {},
   "outputs": [
    {
     "data": {
      "application/vnd.jupyter.widget-view+json": {
       "model_id": "784b4271edf145d2ae1410d2055ab25f",
       "version_major": 2,
       "version_minor": 0
      },
      "text/plain": [
       "Pandas Apply:   0%|          | 0/2000 [00:00<?, ?it/s]"
      ]
     },
     "metadata": {},
     "output_type": "display_data"
    }
   ],
   "source": [
    "import pandas as pd\n",
    "from tqdm import tqdm\n",
    "import swifter\n",
    "\n",
    "# Assuming you have the ball-by-ball cricket data DataFrame loaded already\n",
    "cricket_data = pd.read_csv('ball_by_ball_ipl.csv')\n",
    "\n",
    "cricket_data['Date'] = pd.to_datetime(cricket_data['Date'])\n",
    "cricket_data = cricket_data.sort_values(by='Date')\n",
    "cricket_data = cricket_data[-2000:]\n",
    "cricket_data['Valid Ball'] = (cricket_data['Ball Rebowled'] != 1).astype(int)\n",
    "df = cricket_data.copy()\n",
    "\n",
    "def get_avg_and_sr(row):\n",
    "    date = row['Date']\n",
    "    batter = row['Batter']\n",
    "    n_striker = row['Non Striker']\n",
    "    date_df = df[df['Date'] < date]\n",
    "    \n",
    "    runs = date_df[date_df['Batter'] == batter]['Batter Runs'].sum()\n",
    "    bf = date_df[date_df['Batter'] == batter]['Valid Ball'].sum()\n",
    "    outs = len(date_df[date_df['Player Out'] == batter].index)\n",
    "    \n",
    "    n_runs = date_df[date_df['Batter'] == n_striker]['Batter Runs'].sum()\n",
    "    n_bf = date_df[date_df['Batter'] == n_striker]['Valid Ball'].sum()\n",
    "    n_outs = len(date_df[date_df['Player Out'] == n_striker].index)\n",
    "    \n",
    "    if outs == 0:\n",
    "        row['Batter Avg'] = runs\n",
    "    else:\n",
    "        row['Batter Avg'] = runs / outs\n",
    "        \n",
    "    if bf == 0:\n",
    "        row['Batter SR'] = 0\n",
    "    else:\n",
    "        row['Batter SR'] = (runs / bf)*100\n",
    "        \n",
    "    if n_outs == 0:\n",
    "        row['Non Striker Avg'] = n_runs\n",
    "    else:\n",
    "        row['Non Striker Avg'] = n_runs / n_outs\n",
    "        \n",
    "    if n_bf == 0:\n",
    "        row['Non Striker SR'] = 0\n",
    "    else:\n",
    "        row['Non Striker SR'] = (n_runs / n_bf)*100\n",
    "        \n",
    "        \n",
    "    \n",
    "        \n",
    "    return row\n",
    "\n",
    "tqdm.pandas()\n",
    "\n",
    "# Apply the get_avg_and_sr function to each row using apply\n",
    "cricket_data = cricket_data.swifter.apply(get_avg_and_sr, axis=1)\n",
    "\n",
    "cricket_data.to_csv('ball_by_ball_ipl!.csv')\n",
    "\n",
    "\n"
   ]
  },
  {
   "cell_type": "code",
   "execution_count": 21,
   "metadata": {},
   "outputs": [
    {
     "name": "stderr",
     "output_type": "stream",
     "text": [
      "/var/folders/dq/r162x_ld4ydb57pdv1b88jh00000gn/T/ipykernel_57889/829135917.py:5: DtypeWarning: Columns (0) have mixed types. Specify dtype option on import or set low_memory=False.\n",
      "  cricket_data = pd.read_csv('ball_by_ball_it20.csv')\n"
     ]
    },
    {
     "ename": "TypeError",
     "evalue": "cumsum is not supported for object dtype",
     "output_type": "error",
     "traceback": [
      "\u001b[0;31m---------------------------------------------------------------------------\u001b[0m",
      "\u001b[0;31mNotImplementedError\u001b[0m                       Traceback (most recent call last)",
      "File \u001b[0;32m~/opt/anaconda3/envs/diss/lib/python3.8/site-packages/pandas/core/groupby/generic.py:481\u001b[0m, in \u001b[0;36mSeriesGroupBy._cython_transform\u001b[0;34m(self, how, numeric_only, axis, **kwargs)\u001b[0m\n\u001b[1;32m    480\u001b[0m \u001b[39mtry\u001b[39;00m:\n\u001b[0;32m--> 481\u001b[0m     result \u001b[39m=\u001b[39m \u001b[39mself\u001b[39;49m\u001b[39m.\u001b[39;49mgrouper\u001b[39m.\u001b[39;49m_cython_operation(\n\u001b[1;32m    482\u001b[0m         \u001b[39m\"\u001b[39;49m\u001b[39mtransform\u001b[39;49m\u001b[39m\"\u001b[39;49m, obj\u001b[39m.\u001b[39;49m_values, how, axis, \u001b[39m*\u001b[39;49m\u001b[39m*\u001b[39;49mkwargs\n\u001b[1;32m    483\u001b[0m     )\n\u001b[1;32m    484\u001b[0m \u001b[39mexcept\u001b[39;00m \u001b[39mNotImplementedError\u001b[39;00m \u001b[39mas\u001b[39;00m err:\n\u001b[1;32m    485\u001b[0m     \u001b[39m# e.g. test_groupby_raises_string\u001b[39;00m\n",
      "File \u001b[0;32m~/opt/anaconda3/envs/diss/lib/python3.8/site-packages/pandas/core/groupby/ops.py:959\u001b[0m, in \u001b[0;36mBaseGrouper._cython_operation\u001b[0;34m(self, kind, values, how, axis, min_count, **kwargs)\u001b[0m\n\u001b[1;32m    958\u001b[0m ngroups \u001b[39m=\u001b[39m \u001b[39mself\u001b[39m\u001b[39m.\u001b[39mngroups\n\u001b[0;32m--> 959\u001b[0m \u001b[39mreturn\u001b[39;00m cy_op\u001b[39m.\u001b[39;49mcython_operation(\n\u001b[1;32m    960\u001b[0m     values\u001b[39m=\u001b[39;49mvalues,\n\u001b[1;32m    961\u001b[0m     axis\u001b[39m=\u001b[39;49maxis,\n\u001b[1;32m    962\u001b[0m     min_count\u001b[39m=\u001b[39;49mmin_count,\n\u001b[1;32m    963\u001b[0m     comp_ids\u001b[39m=\u001b[39;49mids,\n\u001b[1;32m    964\u001b[0m     ngroups\u001b[39m=\u001b[39;49mngroups,\n\u001b[1;32m    965\u001b[0m     \u001b[39m*\u001b[39;49m\u001b[39m*\u001b[39;49mkwargs,\n\u001b[1;32m    966\u001b[0m )\n",
      "File \u001b[0;32m~/opt/anaconda3/envs/diss/lib/python3.8/site-packages/pandas/core/groupby/ops.py:657\u001b[0m, in \u001b[0;36mWrappedCythonOp.cython_operation\u001b[0;34m(self, values, axis, min_count, comp_ids, ngroups, **kwargs)\u001b[0m\n\u001b[1;32m    649\u001b[0m     \u001b[39mreturn\u001b[39;00m \u001b[39mself\u001b[39m\u001b[39m.\u001b[39m_ea_wrap_cython_operation(\n\u001b[1;32m    650\u001b[0m         values,\n\u001b[1;32m    651\u001b[0m         min_count\u001b[39m=\u001b[39mmin_count,\n\u001b[0;32m   (...)\u001b[0m\n\u001b[1;32m    654\u001b[0m         \u001b[39m*\u001b[39m\u001b[39m*\u001b[39mkwargs,\n\u001b[1;32m    655\u001b[0m     )\n\u001b[0;32m--> 657\u001b[0m \u001b[39mreturn\u001b[39;00m \u001b[39mself\u001b[39;49m\u001b[39m.\u001b[39;49m_cython_op_ndim_compat(\n\u001b[1;32m    658\u001b[0m     values,\n\u001b[1;32m    659\u001b[0m     min_count\u001b[39m=\u001b[39;49mmin_count,\n\u001b[1;32m    660\u001b[0m     ngroups\u001b[39m=\u001b[39;49mngroups,\n\u001b[1;32m    661\u001b[0m     comp_ids\u001b[39m=\u001b[39;49mcomp_ids,\n\u001b[1;32m    662\u001b[0m     mask\u001b[39m=\u001b[39;49m\u001b[39mNone\u001b[39;49;00m,\n\u001b[1;32m    663\u001b[0m     \u001b[39m*\u001b[39;49m\u001b[39m*\u001b[39;49mkwargs,\n\u001b[1;32m    664\u001b[0m )\n",
      "File \u001b[0;32m~/opt/anaconda3/envs/diss/lib/python3.8/site-packages/pandas/core/groupby/ops.py:482\u001b[0m, in \u001b[0;36mWrappedCythonOp._cython_op_ndim_compat\u001b[0;34m(self, values, min_count, ngroups, comp_ids, mask, result_mask, **kwargs)\u001b[0m\n\u001b[1;32m    481\u001b[0m     result_mask \u001b[39m=\u001b[39m result_mask[\u001b[39mNone\u001b[39;00m, :]\n\u001b[0;32m--> 482\u001b[0m res \u001b[39m=\u001b[39m \u001b[39mself\u001b[39;49m\u001b[39m.\u001b[39;49m_call_cython_op(\n\u001b[1;32m    483\u001b[0m     values2d,\n\u001b[1;32m    484\u001b[0m     min_count\u001b[39m=\u001b[39;49mmin_count,\n\u001b[1;32m    485\u001b[0m     ngroups\u001b[39m=\u001b[39;49mngroups,\n\u001b[1;32m    486\u001b[0m     comp_ids\u001b[39m=\u001b[39;49mcomp_ids,\n\u001b[1;32m    487\u001b[0m     mask\u001b[39m=\u001b[39;49mmask,\n\u001b[1;32m    488\u001b[0m     result_mask\u001b[39m=\u001b[39;49mresult_mask,\n\u001b[1;32m    489\u001b[0m     \u001b[39m*\u001b[39;49m\u001b[39m*\u001b[39;49mkwargs,\n\u001b[1;32m    490\u001b[0m )\n\u001b[1;32m    491\u001b[0m \u001b[39mif\u001b[39;00m res\u001b[39m.\u001b[39mshape[\u001b[39m0\u001b[39m] \u001b[39m==\u001b[39m \u001b[39m1\u001b[39m:\n",
      "File \u001b[0;32m~/opt/anaconda3/envs/diss/lib/python3.8/site-packages/pandas/core/groupby/ops.py:541\u001b[0m, in \u001b[0;36mWrappedCythonOp._call_cython_op\u001b[0;34m(self, values, min_count, ngroups, comp_ids, mask, result_mask, **kwargs)\u001b[0m\n\u001b[1;32m    540\u001b[0m out_shape \u001b[39m=\u001b[39m \u001b[39mself\u001b[39m\u001b[39m.\u001b[39m_get_output_shape(ngroups, values)\n\u001b[0;32m--> 541\u001b[0m func \u001b[39m=\u001b[39m \u001b[39mself\u001b[39;49m\u001b[39m.\u001b[39;49m_get_cython_function(\u001b[39mself\u001b[39;49m\u001b[39m.\u001b[39;49mkind, \u001b[39mself\u001b[39;49m\u001b[39m.\u001b[39;49mhow, values\u001b[39m.\u001b[39;49mdtype, is_numeric)\n\u001b[1;32m    542\u001b[0m values \u001b[39m=\u001b[39m \u001b[39mself\u001b[39m\u001b[39m.\u001b[39m_get_cython_vals(values)\n",
      "File \u001b[0;32m~/opt/anaconda3/envs/diss/lib/python3.8/site-packages/pandas/core/groupby/ops.py:173\u001b[0m, in \u001b[0;36mWrappedCythonOp._get_cython_function\u001b[0;34m(cls, kind, how, dtype, is_numeric)\u001b[0m\n\u001b[1;32m    171\u001b[0m \u001b[39mif\u001b[39;00m \u001b[39m\"\u001b[39m\u001b[39mobject\u001b[39m\u001b[39m\"\u001b[39m \u001b[39mnot\u001b[39;00m \u001b[39min\u001b[39;00m f\u001b[39m.\u001b[39m__signatures__:\n\u001b[1;32m    172\u001b[0m     \u001b[39m# raise NotImplementedError here rather than TypeError later\u001b[39;00m\n\u001b[0;32m--> 173\u001b[0m     \u001b[39mraise\u001b[39;00m \u001b[39mNotImplementedError\u001b[39;00m(\n\u001b[1;32m    174\u001b[0m         \u001b[39mf\u001b[39m\u001b[39m\"\u001b[39m\u001b[39mfunction is not implemented for this dtype: \u001b[39m\u001b[39m\"\u001b[39m\n\u001b[1;32m    175\u001b[0m         \u001b[39mf\u001b[39m\u001b[39m\"\u001b[39m\u001b[39m[how->\u001b[39m\u001b[39m{\u001b[39;00mhow\u001b[39m}\u001b[39;00m\u001b[39m,dtype->\u001b[39m\u001b[39m{\u001b[39;00mdtype_str\u001b[39m}\u001b[39;00m\u001b[39m]\u001b[39m\u001b[39m\"\u001b[39m\n\u001b[1;32m    176\u001b[0m     )\n\u001b[1;32m    177\u001b[0m \u001b[39mreturn\u001b[39;00m f\n",
      "\u001b[0;31mNotImplementedError\u001b[0m: function is not implemented for this dtype: [how->cumsum,dtype->object]",
      "\nThe above exception was the direct cause of the following exception:\n",
      "\u001b[0;31mTypeError\u001b[0m                                 Traceback (most recent call last)",
      "Cell \u001b[0;32mIn[21], line 14\u001b[0m\n\u001b[1;32m     12\u001b[0m cricket_data[\u001b[39m'\u001b[39m\u001b[39mcum_runs\u001b[39m\u001b[39m'\u001b[39m] \u001b[39m=\u001b[39m cricket_data\u001b[39m.\u001b[39mgroupby([\u001b[39m'\u001b[39m\u001b[39mBatter\u001b[39m\u001b[39m'\u001b[39m, \u001b[39m'\u001b[39m\u001b[39mDate\u001b[39m\u001b[39m'\u001b[39m])[\u001b[39m'\u001b[39m\u001b[39mBatter Runs\u001b[39m\u001b[39m'\u001b[39m]\u001b[39m.\u001b[39mcumsum()\n\u001b[1;32m     13\u001b[0m cricket_data[\u001b[39m'\u001b[39m\u001b[39mcum_bf\u001b[39m\u001b[39m'\u001b[39m] \u001b[39m=\u001b[39m cricket_data\u001b[39m.\u001b[39mgroupby([\u001b[39m'\u001b[39m\u001b[39mBatter\u001b[39m\u001b[39m'\u001b[39m, \u001b[39m'\u001b[39m\u001b[39mDate\u001b[39m\u001b[39m'\u001b[39m])[\u001b[39m'\u001b[39m\u001b[39mValid Ball\u001b[39m\u001b[39m'\u001b[39m]\u001b[39m.\u001b[39mcumsum()\n\u001b[0;32m---> 14\u001b[0m cricket_data[\u001b[39m'\u001b[39m\u001b[39mcum_outs\u001b[39m\u001b[39m'\u001b[39m] \u001b[39m=\u001b[39m cricket_data\u001b[39m.\u001b[39;49mgroupby([\u001b[39m'\u001b[39;49m\u001b[39mBatter\u001b[39;49m\u001b[39m'\u001b[39;49m, \u001b[39m'\u001b[39;49m\u001b[39mDate\u001b[39;49m\u001b[39m'\u001b[39;49m])[\u001b[39m'\u001b[39;49m\u001b[39mPlayer Out\u001b[39;49m\u001b[39m'\u001b[39;49m]\u001b[39m.\u001b[39;49mcumsum()\n\u001b[1;32m     16\u001b[0m \u001b[39m# Calculate Batter Avg and Batter SR using cumulative values\u001b[39;00m\n\u001b[1;32m     17\u001b[0m cricket_data[\u001b[39m'\u001b[39m\u001b[39mBatter Avg\u001b[39m\u001b[39m'\u001b[39m] \u001b[39m=\u001b[39m cricket_data[\u001b[39m'\u001b[39m\u001b[39mcum_runs\u001b[39m\u001b[39m'\u001b[39m] \u001b[39m/\u001b[39m cricket_data[\u001b[39m'\u001b[39m\u001b[39mcum_outs\u001b[39m\u001b[39m'\u001b[39m]\u001b[39m.\u001b[39mwhere(cricket_data[\u001b[39m'\u001b[39m\u001b[39mcum_outs\u001b[39m\u001b[39m'\u001b[39m] \u001b[39m>\u001b[39m \u001b[39m0\u001b[39m, \u001b[39m1\u001b[39m)\n",
      "File \u001b[0;32m~/opt/anaconda3/envs/diss/lib/python3.8/site-packages/pandas/core/groupby/groupby.py:3587\u001b[0m, in \u001b[0;36mGroupBy.cumsum\u001b[0;34m(self, axis, *args, **kwargs)\u001b[0m\n\u001b[1;32m   3584\u001b[0m     f \u001b[39m=\u001b[39m \u001b[39mlambda\u001b[39;00m x: x\u001b[39m.\u001b[39mcumsum(axis\u001b[39m=\u001b[39maxis, \u001b[39m*\u001b[39m\u001b[39m*\u001b[39mkwargs)\n\u001b[1;32m   3585\u001b[0m     \u001b[39mreturn\u001b[39;00m \u001b[39mself\u001b[39m\u001b[39m.\u001b[39m_python_apply_general(f, \u001b[39mself\u001b[39m\u001b[39m.\u001b[39m_selected_obj, is_transform\u001b[39m=\u001b[39m\u001b[39mTrue\u001b[39;00m)\n\u001b[0;32m-> 3587\u001b[0m \u001b[39mreturn\u001b[39;00m \u001b[39mself\u001b[39;49m\u001b[39m.\u001b[39;49m_cython_transform(\u001b[39m\"\u001b[39;49m\u001b[39mcumsum\u001b[39;49m\u001b[39m\"\u001b[39;49m, \u001b[39m*\u001b[39;49m\u001b[39m*\u001b[39;49mkwargs)\n",
      "File \u001b[0;32m~/opt/anaconda3/envs/diss/lib/python3.8/site-packages/pandas/core/groupby/generic.py:486\u001b[0m, in \u001b[0;36mSeriesGroupBy._cython_transform\u001b[0;34m(self, how, numeric_only, axis, **kwargs)\u001b[0m\n\u001b[1;32m    481\u001b[0m     result \u001b[39m=\u001b[39m \u001b[39mself\u001b[39m\u001b[39m.\u001b[39mgrouper\u001b[39m.\u001b[39m_cython_operation(\n\u001b[1;32m    482\u001b[0m         \u001b[39m\"\u001b[39m\u001b[39mtransform\u001b[39m\u001b[39m\"\u001b[39m, obj\u001b[39m.\u001b[39m_values, how, axis, \u001b[39m*\u001b[39m\u001b[39m*\u001b[39mkwargs\n\u001b[1;32m    483\u001b[0m     )\n\u001b[1;32m    484\u001b[0m \u001b[39mexcept\u001b[39;00m \u001b[39mNotImplementedError\u001b[39;00m \u001b[39mas\u001b[39;00m err:\n\u001b[1;32m    485\u001b[0m     \u001b[39m# e.g. test_groupby_raises_string\u001b[39;00m\n\u001b[0;32m--> 486\u001b[0m     \u001b[39mraise\u001b[39;00m \u001b[39mTypeError\u001b[39;00m(\u001b[39mf\u001b[39m\u001b[39m\"\u001b[39m\u001b[39m{\u001b[39;00mhow\u001b[39m}\u001b[39;00m\u001b[39m is not supported for \u001b[39m\u001b[39m{\u001b[39;00mobj\u001b[39m.\u001b[39mdtype\u001b[39m}\u001b[39;00m\u001b[39m dtype\u001b[39m\u001b[39m\"\u001b[39m) \u001b[39mfrom\u001b[39;00m \u001b[39merr\u001b[39;00m\n\u001b[1;32m    488\u001b[0m \u001b[39mreturn\u001b[39;00m obj\u001b[39m.\u001b[39m_constructor(result, index\u001b[39m=\u001b[39m\u001b[39mself\u001b[39m\u001b[39m.\u001b[39mobj\u001b[39m.\u001b[39mindex, name\u001b[39m=\u001b[39mobj\u001b[39m.\u001b[39mname)\n",
      "\u001b[0;31mTypeError\u001b[0m: cumsum is not supported for object dtype"
     ]
    }
   ],
   "source": [
    "import pandas as pd\n",
    "from tqdm import tqdm\n",
    "\n",
    "# Assuming you have the ball-by-ball cricket data DataFrame loaded already\n",
    "cricket_data = pd.read_csv('ball_by_ball_it20.csv')\n",
    "\n",
    "# Convert columns to appropriate data types\n",
    "cricket_data['Date'] = pd.to_datetime(cricket_data['Date'])\n",
    "cricket_data['Valid Ball'] = (cricket_data['Ball Rebowled'] != 1).astype(int)\n",
    "\n",
    "# Group by 'Batter' and 'Date' and calculate cumulative sum\n",
    "cricket_data['cum_runs'] = cricket_data.groupby(['Batter', 'Date'])['Batter Runs'].cumsum()\n",
    "cricket_data['cum_bf'] = cricket_data.groupby(['Batter', 'Date'])['Valid Ball'].cumsum()\n",
    "cricket_data['cum_outs'] = cricket_data.groupby(['Batter', 'Date'])['Player Out'].cumsum()\n",
    "\n",
    "# Calculate Batter Avg and Batter SR using cumulative values\n",
    "cricket_data['Batter Avg'] = cricket_data['cum_runs'] / cricket_data['cum_outs'].where(cricket_data['cum_outs'] > 0, 1)\n",
    "cricket_data['Batter SR'] = (cricket_data['cum_runs'] / cricket_data['cum_bf']) * 100\n",
    "\n",
    "# Drop unnecessary columns\n",
    "cricket_data.drop(columns=['cum_runs', 'cum_bf', 'cum_outs'], inplace=True)\n",
    "\n",
    "print(cricket_data)\n"
   ]
  }
 ],
 "metadata": {
  "kernelspec": {
   "display_name": "Python 3 (ipykernel)",
   "language": "python",
   "name": "python3"
  },
  "language_info": {
   "codemirror_mode": {
    "name": "ipython",
    "version": 3
   },
   "file_extension": ".py",
   "mimetype": "text/x-python",
   "name": "python",
   "nbconvert_exporter": "python",
   "pygments_lexer": "ipython3",
   "version": "3.8.16"
  }
 },
 "nbformat": 4,
 "nbformat_minor": 2
}
